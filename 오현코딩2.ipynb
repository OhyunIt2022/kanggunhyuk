{
  "nbformat": 4,
  "nbformat_minor": 0,
  "metadata": {
    "colab": {
      "name": "오현코딩2",
      "provenance": []
    },
    "kernelspec": {
      "name": "python3",
      "display_name": "Python 3"
    },
    "language_info": {
      "name": "python"
    }
  },
  "cells": [
    {
      "cell_type": "code",
      "execution_count": null,
      "metadata": {
        "id": "glMJ5l8tyYgS"
      },
      "outputs": [],
      "source": [
        "#추가\n",
        "배열=[1,2,3,4,5]"
      ]
    },
    {
      "cell_type": "code",
      "source": [
        "print(배열)"
      ],
      "metadata": {
        "colab": {
          "base_uri": "https://localhost:8080/"
        },
        "id": "4kIfVUOh0Orp",
        "outputId": "da110a4d-4dbe-4641-9278-2961373641c4"
      },
      "execution_count": null,
      "outputs": [
        {
          "output_type": "stream",
          "name": "stdout",
          "text": [
            "[1, 2, 3, 4, 5]\n"
          ]
        }
      ]
    },
    {
      "cell_type": "code",
      "source": [
        "#6추가\n",
        "배열 .append(6)"
      ],
      "metadata": {
        "id": "qx8MBHba0RRn"
      },
      "execution_count": null,
      "outputs": []
    },
    {
      "cell_type": "code",
      "source": [
        "print(배열)"
      ],
      "metadata": {
        "colab": {
          "base_uri": "https://localhost:8080/"
        },
        "id": "3-FolTWN0ejc",
        "outputId": "26150bef-8027-4853-c6d6-4f60bb4b07ca"
      },
      "execution_count": null,
      "outputs": [
        {
          "output_type": "stream",
          "name": "stdout",
          "text": [
            "[1, 2, 3, 4, 5, 6]\n"
          ]
        }
      ]
    },
    {
      "cell_type": "code",
      "source": [
        "배열 .append(7,8)"
      ],
      "metadata": {
        "colab": {
          "base_uri": "https://localhost:8080/",
          "height": 172
        },
        "id": "IIxsNTrN0hih",
        "outputId": "48fd2526-b29c-44e6-ec92-b204516c8c7e"
      },
      "execution_count": null,
      "outputs": [
        {
          "output_type": "error",
          "ename": "TypeError",
          "evalue": "ignored",
          "traceback": [
            "\u001b[0;31m---------------------------------------------------------------------------\u001b[0m",
            "\u001b[0;31mTypeError\u001b[0m                                 Traceback (most recent call last)",
            "\u001b[0;32m<ipython-input-5-92f48e33d222>\u001b[0m in \u001b[0;36m<module>\u001b[0;34m()\u001b[0m\n\u001b[0;32m----> 1\u001b[0;31m \u001b[0m배열\u001b[0m \u001b[0;34m.\u001b[0m\u001b[0mappend\u001b[0m\u001b[0;34m(\u001b[0m\u001b[0;36m7\u001b[0m\u001b[0;34m,\u001b[0m\u001b[0;36m8\u001b[0m\u001b[0;34m)\u001b[0m\u001b[0;34m\u001b[0m\u001b[0;34m\u001b[0m\u001b[0m\n\u001b[0m",
            "\u001b[0;31mTypeError\u001b[0m: append() takes exactly one argument (2 given)"
          ]
        }
      ]
    },
    {
      "cell_type": "code",
      "source": [
        "배열 .append([1,2,3])#배열에 넣을 수 있는 자료형이 모두 가능"
      ],
      "metadata": {
        "id": "3CyHPLtB0qnz"
      },
      "execution_count": null,
      "outputs": []
    },
    {
      "cell_type": "code",
      "source": [
        "print(배열)"
      ],
      "metadata": {
        "colab": {
          "base_uri": "https://localhost:8080/"
        },
        "id": "OEPHL4wH0zbQ",
        "outputId": "b4c0f08a-413f-4e80-cb99-c67b815ff5e6"
      },
      "execution_count": null,
      "outputs": [
        {
          "output_type": "stream",
          "name": "stdout",
          "text": [
            "[1, 2, 3, 4, 5, 6, [1, 2, 3]]\n"
          ]
        }
      ]
    },
    {
      "cell_type": "code",
      "source": [
        "dir(배열)"
      ],
      "metadata": {
        "colab": {
          "base_uri": "https://localhost:8080/"
        },
        "id": "_5_o8c4l02kk",
        "outputId": "12696910-023f-4074-c8e9-88ca1efd252b"
      },
      "execution_count": null,
      "outputs": [
        {
          "output_type": "execute_result",
          "data": {
            "text/plain": [
              "['__add__',\n",
              " '__class__',\n",
              " '__contains__',\n",
              " '__delattr__',\n",
              " '__delitem__',\n",
              " '__dir__',\n",
              " '__doc__',\n",
              " '__eq__',\n",
              " '__format__',\n",
              " '__ge__',\n",
              " '__getattribute__',\n",
              " '__getitem__',\n",
              " '__gt__',\n",
              " '__hash__',\n",
              " '__iadd__',\n",
              " '__imul__',\n",
              " '__init__',\n",
              " '__init_subclass__',\n",
              " '__iter__',\n",
              " '__le__',\n",
              " '__len__',\n",
              " '__lt__',\n",
              " '__mul__',\n",
              " '__ne__',\n",
              " '__new__',\n",
              " '__reduce__',\n",
              " '__reduce_ex__',\n",
              " '__repr__',\n",
              " '__reversed__',\n",
              " '__rmul__',\n",
              " '__setattr__',\n",
              " '__setitem__',\n",
              " '__sizeof__',\n",
              " '__str__',\n",
              " '__subclasshook__',\n",
              " 'append',\n",
              " 'clear',\n",
              " 'copy',\n",
              " 'count',\n",
              " 'extend',\n",
              " 'index',\n",
              " 'insert',\n",
              " 'pop',\n",
              " 'remove',\n",
              " 'reverse',\n",
              " 'sort']"
            ]
          },
          "metadata": {},
          "execution_count": 8
        }
      ]
    },
    {
      "cell_type": "code",
      "source": [
        "배열2=[3,10,19,100,1,17]"
      ],
      "metadata": {
        "id": "-Q-mVYVY1AjT"
      },
      "execution_count": null,
      "outputs": []
    },
    {
      "cell_type": "code",
      "source": [
        "print(배열)"
      ],
      "metadata": {
        "colab": {
          "base_uri": "https://localhost:8080/"
        },
        "id": "zC5lgEiL1vBf",
        "outputId": "6e9cb086-a1fd-4690-f775-6a216132eda2"
      },
      "execution_count": null,
      "outputs": [
        {
          "output_type": "stream",
          "name": "stdout",
          "text": [
            "[1, 2, 3, 4, 5, 6, [1, 2, 3]]\n"
          ]
        }
      ]
    },
    {
      "cell_type": "code",
      "source": [
        "배열2.sort()"
      ],
      "metadata": {
        "id": "kkSFL1HG1xcy"
      },
      "execution_count": null,
      "outputs": []
    },
    {
      "cell_type": "code",
      "source": [
        "print(배열2)"
      ],
      "metadata": {
        "colab": {
          "base_uri": "https://localhost:8080/"
        },
        "id": "ZT3jKoOE12hG",
        "outputId": "a060c34c-fc9d-4f2e-b582-4d77e6bf882d"
      },
      "execution_count": null,
      "outputs": [
        {
          "output_type": "stream",
          "name": "stdout",
          "text": [
            "[1, 3, 10, 17, 19, 100]\n"
          ]
        }
      ]
    },
    {
      "cell_type": "code",
      "source": [
        "문자열배열=['z','c','d','가','나','다']"
      ],
      "metadata": {
        "id": "po7g44iP15I6"
      },
      "execution_count": null,
      "outputs": []
    },
    {
      "cell_type": "code",
      "source": [
        "문자열배열 . sort()\n",
        "print(문자열배열)"
      ],
      "metadata": {
        "colab": {
          "base_uri": "https://localhost:8080/"
        },
        "id": "KXMb4w2_2O_m",
        "outputId": "1daa816e-7f4c-4e84-b97f-9b890a569264"
      },
      "execution_count": null,
      "outputs": [
        {
          "output_type": "stream",
          "name": "stdout",
          "text": [
            "['c', 'd', 'z', '가', '나', '다']\n"
          ]
        }
      ]
    },
    {
      "cell_type": "code",
      "source": [
        "섞인거=[1,10,3,'가','나']\n",
        "섞인거.sort()\n",
        "print(섞인거)"
      ],
      "metadata": {
        "colab": {
          "base_uri": "https://localhost:8080/",
          "height": 209
        },
        "id": "6RBM_r-12Xth",
        "outputId": "745e72a2-6212-4c62-bd61-c3d738aab110"
      },
      "execution_count": null,
      "outputs": [
        {
          "output_type": "error",
          "ename": "TypeError",
          "evalue": "ignored",
          "traceback": [
            "\u001b[0;31m---------------------------------------------------------------------------\u001b[0m",
            "\u001b[0;31mTypeError\u001b[0m                                 Traceback (most recent call last)",
            "\u001b[0;32m<ipython-input-15-88a60c77a7d2>\u001b[0m in \u001b[0;36m<module>\u001b[0;34m()\u001b[0m\n\u001b[1;32m      1\u001b[0m \u001b[0m섞인거\u001b[0m\u001b[0;34m=\u001b[0m\u001b[0;34m[\u001b[0m\u001b[0;36m1\u001b[0m\u001b[0;34m,\u001b[0m\u001b[0;36m10\u001b[0m\u001b[0;34m,\u001b[0m\u001b[0;36m3\u001b[0m\u001b[0;34m,\u001b[0m\u001b[0;34m'가'\u001b[0m\u001b[0;34m,\u001b[0m\u001b[0;34m'나'\u001b[0m\u001b[0;34m]\u001b[0m\u001b[0;34m\u001b[0m\u001b[0;34m\u001b[0m\u001b[0m\n\u001b[0;32m----> 2\u001b[0;31m \u001b[0m섞인거\u001b[0m\u001b[0;34m.\u001b[0m\u001b[0msort\u001b[0m\u001b[0;34m(\u001b[0m\u001b[0;34m)\u001b[0m\u001b[0;34m\u001b[0m\u001b[0;34m\u001b[0m\u001b[0m\n\u001b[0m\u001b[1;32m      3\u001b[0m \u001b[0mprint\u001b[0m\u001b[0;34m(\u001b[0m\u001b[0m섞인거\u001b[0m\u001b[0;34m)\u001b[0m\u001b[0;34m\u001b[0m\u001b[0;34m\u001b[0m\u001b[0m\n",
            "\u001b[0;31mTypeError\u001b[0m: '<' not supported between instances of 'str' and 'int'"
          ]
        }
      ]
    },
    {
      "cell_type": "code",
      "source": [
        "배열2.reverse()"
      ],
      "metadata": {
        "id": "yWMuaBpR2qms"
      },
      "execution_count": null,
      "outputs": []
    },
    {
      "cell_type": "code",
      "source": [
        "print(배열2)"
      ],
      "metadata": {
        "colab": {
          "base_uri": "https://localhost:8080/"
        },
        "id": "4YR1A5y_25UQ",
        "outputId": "00191d29-54ff-441f-b831-fd502aa1b5c7"
      },
      "execution_count": null,
      "outputs": [
        {
          "output_type": "stream",
          "name": "stdout",
          "text": [
            "[100, 19, 17, 10, 3, 1]\n"
          ]
        }
      ]
    },
    {
      "cell_type": "code",
      "source": [
        "배열3=[5,10,1]\n"
      ],
      "metadata": {
        "id": "sjBhcD2j27Zo"
      },
      "execution_count": null,
      "outputs": []
    },
    {
      "cell_type": "code",
      "source": [
        "배열3.reverse()\n",
        "print(배열3)"
      ],
      "metadata": {
        "colab": {
          "base_uri": "https://localhost:8080/"
        },
        "id": "MIOPSUSt2_5I",
        "outputId": "023f3d97-0381-4359-bfa1-f62fe28abe5d"
      },
      "execution_count": null,
      "outputs": [
        {
          "output_type": "stream",
          "name": "stdout",
          "text": [
            "[1, 10, 5]\n"
          ]
        }
      ]
    },
    {
      "cell_type": "code",
      "source": [
        "배열3.reverse()\n",
        "print(배열3)"
      ],
      "metadata": {
        "colab": {
          "base_uri": "https://localhost:8080/"
        },
        "id": "-xke1HBt3GGY",
        "outputId": "c8fb54eb-6289-4d4d-a9da-d4c4202e0c4b"
      },
      "execution_count": null,
      "outputs": [
        {
          "output_type": "stream",
          "name": "stdout",
          "text": [
            "[5, 10, 1]\n"
          ]
        }
      ]
    },
    {
      "cell_type": "code",
      "source": [
        "배열4=[1,2,3,4,[1,2,3]]\n",
        "배열4.reverse()\n",
        "print(배열4)"
      ],
      "metadata": {
        "colab": {
          "base_uri": "https://localhost:8080/"
        },
        "id": "K_Fkg5xJ3UL6",
        "outputId": "6b436ab8-38b0-4ad3-86e3-a3efb21abcc7"
      },
      "execution_count": null,
      "outputs": [
        {
          "output_type": "stream",
          "name": "stdout",
          "text": [
            "[[1, 2, 3], 4, 3, 2, 1]\n"
          ]
        }
      ]
    },
    {
      "cell_type": "code",
      "source": [
        "배열4[0].reverse()\n",
        "print(배열4)"
      ],
      "metadata": {
        "colab": {
          "base_uri": "https://localhost:8080/"
        },
        "id": "qWAvyXb23nuc",
        "outputId": "42c8fe3b-8696-441f-c554-56a54d7871ce"
      },
      "execution_count": null,
      "outputs": [
        {
          "output_type": "stream",
          "name": "stdout",
          "text": [
            "[[3, 2, 1], 4, 3, 2, 1]\n"
          ]
        }
      ]
    },
    {
      "cell_type": "code",
      "source": [
        "음식=['라면','떡볶이','커피','짜장면','파스타','불족','피자','치킨']\n",
        "불족인덱스=음식.index('불족')\n",
        "print(불족인덱스)"
      ],
      "metadata": {
        "colab": {
          "base_uri": "https://localhost:8080/"
        },
        "id": "WbWN2ia45--I",
        "outputId": "54983d98-c70b-482a-fbb6-fd69a41f5eb5"
      },
      "execution_count": null,
      "outputs": [
        {
          "output_type": "stream",
          "name": "stdout",
          "text": [
            "5\n"
          ]
        }
      ]
    },
    {
      "cell_type": "code",
      "source": [
        "음식.index('소고기')\n",
        "#배열안에 없는 값을 찾으면 에러"
      ],
      "metadata": {
        "colab": {
          "base_uri": "https://localhost:8080/",
          "height": 172
        },
        "id": "iaJjAmUO_twE",
        "outputId": "950ed91a-6127-4717-cd4d-233dc57b42b8"
      },
      "execution_count": null,
      "outputs": [
        {
          "output_type": "error",
          "ename": "ValueError",
          "evalue": "ignored",
          "traceback": [
            "\u001b[0;31m---------------------------------------------------------------------------\u001b[0m",
            "\u001b[0;31mValueError\u001b[0m                                Traceback (most recent call last)",
            "\u001b[0;32m<ipython-input-96-01e0f5b8be94>\u001b[0m in \u001b[0;36m<module>\u001b[0;34m()\u001b[0m\n\u001b[0;32m----> 1\u001b[0;31m \u001b[0m음식\u001b[0m\u001b[0;34m.\u001b[0m\u001b[0mindex\u001b[0m\u001b[0;34m(\u001b[0m\u001b[0;34m'소고기'\u001b[0m\u001b[0;34m)\u001b[0m\u001b[0;34m\u001b[0m\u001b[0;34m\u001b[0m\u001b[0m\n\u001b[0m",
            "\u001b[0;31mValueError\u001b[0m: '소고기' is not in list"
          ]
        }
      ]
    },
    {
      "cell_type": "code",
      "source": [
        "print(음식[1:4])"
      ],
      "metadata": {
        "colab": {
          "base_uri": "https://localhost:8080/"
        },
        "id": "lIJvKnaS_60E",
        "outputId": "39b0857e-9f65-4f28-99ed-12f57a1d6231"
      },
      "execution_count": null,
      "outputs": [
        {
          "output_type": "stream",
          "name": "stdout",
          "text": [
            "['떡볶이', '커피', '짜장면']\n"
          ]
        }
      ]
    },
    {
      "cell_type": "code",
      "source": [
        "떡복이인덱스=음식.index('떡볶이')\n",
        "피자인덱스=음식.index('피자')"
      ],
      "metadata": {
        "colab": {
          "base_uri": "https://localhost:8080/",
          "height": 190
        },
        "id": "QJ7WK17hAO4g",
        "outputId": "a7643b75-d7b8-44d6-d2f7-6b6c5f74f440"
      },
      "execution_count": null,
      "outputs": [
        {
          "output_type": "error",
          "ename": "ValueError",
          "evalue": "ignored",
          "traceback": [
            "\u001b[0;31m---------------------------------------------------------------------------\u001b[0m",
            "\u001b[0;31mValueError\u001b[0m                                Traceback (most recent call last)",
            "\u001b[0;32m<ipython-input-109-152bf12e35f2>\u001b[0m in \u001b[0;36m<module>\u001b[0;34m()\u001b[0m\n\u001b[0;32m----> 1\u001b[0;31m \u001b[0m떡복이인덱스\u001b[0m\u001b[0;34m=\u001b[0m\u001b[0m음식\u001b[0m\u001b[0;34m.\u001b[0m\u001b[0mindex\u001b[0m\u001b[0;34m(\u001b[0m\u001b[0;34m'떡볶이'\u001b[0m\u001b[0;34m)\u001b[0m\u001b[0;34m\u001b[0m\u001b[0;34m\u001b[0m\u001b[0m\n\u001b[0m\u001b[1;32m      2\u001b[0m \u001b[0m피자인덱스\u001b[0m\u001b[0;34m=\u001b[0m\u001b[0m음식\u001b[0m\u001b[0;34m.\u001b[0m\u001b[0mindex\u001b[0m\u001b[0;34m(\u001b[0m\u001b[0;34m'피자'\u001b[0m\u001b[0;34m)\u001b[0m\u001b[0;34m\u001b[0m\u001b[0;34m\u001b[0m\u001b[0m\n",
            "\u001b[0;31mValueError\u001b[0m: '떡볶이' is not in list"
          ]
        }
      ]
    },
    {
      "cell_type": "code",
      "source": [
        "음식2=음식[떡복이인덱스:피자인덱스]"
      ],
      "metadata": {
        "id": "eoLMWPPFAoxx"
      },
      "execution_count": null,
      "outputs": []
    },
    {
      "cell_type": "code",
      "source": [
        "print(음식2)"
      ],
      "metadata": {
        "colab": {
          "base_uri": "https://localhost:8080/"
        },
        "id": "xtJ8e68rAwZ2",
        "outputId": "61bc0bba-c7d7-4672-b381-4585029c82aa"
      },
      "execution_count": null,
      "outputs": [
        {
          "output_type": "stream",
          "name": "stdout",
          "text": [
            "['떡볶이', '커피', '짜장면', '파스타', '불족']\n"
          ]
        }
      ]
    },
    {
      "cell_type": "code",
      "source": [
        "#insert\n",
        "음식.insert(불족인덱스,'소고기')\n",
        "print(음식)"
      ],
      "metadata": {
        "colab": {
          "base_uri": "https://localhost:8080/"
        },
        "id": "Ub18Sr5ZAzx0",
        "outputId": "f5134596-f3bd-4f2e-b166-e0861d03af84"
      },
      "execution_count": null,
      "outputs": [
        {
          "output_type": "stream",
          "name": "stdout",
          "text": [
            "['라면', '떡볶이', '커피', '짜장면', '파스타', '소고기', '불족', '피자', '치킨']\n"
          ]
        }
      ]
    },
    {
      "cell_type": "code",
      "source": [
        "음식.insert(0,'초밥')"
      ],
      "metadata": {
        "id": "9ixEWkMFBNKK"
      },
      "execution_count": null,
      "outputs": []
    },
    {
      "cell_type": "code",
      "source": [
        "print(음식)"
      ],
      "metadata": {
        "colab": {
          "base_uri": "https://localhost:8080/"
        },
        "id": "dvermGoYBgXk",
        "outputId": "a12043d3-23c5-40ba-dddb-6eaed9756bcc"
      },
      "execution_count": null,
      "outputs": [
        {
          "output_type": "stream",
          "name": "stdout",
          "text": [
            "['초밥', '라면', '떡볶이', '커피', '짜장면', '파스타', '소고기', '불족', '피자', '치킨']\n"
          ]
        }
      ]
    },
    {
      "cell_type": "code",
      "source": [
        "음식.pop()"
      ],
      "metadata": {
        "colab": {
          "base_uri": "https://localhost:8080/",
          "height": 35
        },
        "id": "tRlh5aFqBjIK",
        "outputId": "f1b586ba-7a44-486f-ef7d-b18b08e99453"
      },
      "execution_count": null,
      "outputs": [
        {
          "output_type": "execute_result",
          "data": {
            "text/plain": [
              "'치킨'"
            ],
            "application/vnd.google.colaboratory.intrinsic+json": {
              "type": "string"
            }
          },
          "metadata": {},
          "execution_count": 104
        }
      ]
    },
    {
      "cell_type": "code",
      "source": [
        "print(음식)"
      ],
      "metadata": {
        "colab": {
          "base_uri": "https://localhost:8080/"
        },
        "id": "rdsSGjEIBpby",
        "outputId": "dadf2a1b-59cb-4238-bbb7-6d73329d27c2"
      },
      "execution_count": null,
      "outputs": [
        {
          "output_type": "stream",
          "name": "stdout",
          "text": [
            "['초밥', '라면', '떡볶이', '커피', '짜장면', '파스타', '소고기', '불족', '피자']\n"
          ]
        }
      ]
    },
    {
      "cell_type": "code",
      "source": [
        "음식.pop(2)"
      ],
      "metadata": {
        "colab": {
          "base_uri": "https://localhost:8080/",
          "height": 35
        },
        "id": "lsvMRyhZBrkS",
        "outputId": "b801ede3-2877-4acb-a9da-6af7be7bfaf0"
      },
      "execution_count": null,
      "outputs": [
        {
          "output_type": "execute_result",
          "data": {
            "text/plain": [
              "'떡볶이'"
            ],
            "application/vnd.google.colaboratory.intrinsic+json": {
              "type": "string"
            }
          },
          "metadata": {},
          "execution_count": 106
        }
      ]
    },
    {
      "cell_type": "code",
      "source": [
        "print(음식)"
      ],
      "metadata": {
        "colab": {
          "base_uri": "https://localhost:8080/"
        },
        "id": "QfwoDdOrB2ti",
        "outputId": "e7eff446-286f-4c96-afc5-b6728d0d326d"
      },
      "execution_count": null,
      "outputs": [
        {
          "output_type": "stream",
          "name": "stdout",
          "text": [
            "['초밥', '라면', '커피', '짜장면', '파스타', '소고기', '불족', '피자']\n"
          ]
        }
      ]
    },
    {
      "cell_type": "code",
      "source": [
        "음식.pop(불족인덱스)"
      ],
      "metadata": {
        "colab": {
          "base_uri": "https://localhost:8080/",
          "height": 35
        },
        "id": "IRUc95nRB5Az",
        "outputId": "69225178-ccc3-45c9-8d73-d82c132c4188"
      },
      "execution_count": null,
      "outputs": [
        {
          "output_type": "execute_result",
          "data": {
            "text/plain": [
              "'소고기'"
            ],
            "application/vnd.google.colaboratory.intrinsic+json": {
              "type": "string"
            }
          },
          "metadata": {},
          "execution_count": 108
        }
      ]
    },
    {
      "cell_type": "code",
      "source": [
        "print(불족인덱스)"
      ],
      "metadata": {
        "colab": {
          "base_uri": "https://localhost:8080/"
        },
        "id": "Z8rpTSLFB-9B",
        "outputId": "6bd24ae8-e66c-423e-b21a-746f51eeb702"
      },
      "execution_count": null,
      "outputs": [
        {
          "output_type": "stream",
          "name": "stdout",
          "text": [
            "5\n"
          ]
        }
      ]
    },
    {
      "cell_type": "code",
      "source": [
        "음식.remove('불족')"
      ],
      "metadata": {
        "id": "H0lipkz0CJTE"
      },
      "execution_count": null,
      "outputs": []
    },
    {
      "cell_type": "code",
      "source": [
        "print(음식)"
      ],
      "metadata": {
        "colab": {
          "base_uri": "https://localhost:8080/"
        },
        "id": "d2evtXBNCP5i",
        "outputId": "2c4e7c4c-156c-4add-ecdc-16c5a3b5a604"
      },
      "execution_count": null,
      "outputs": [
        {
          "output_type": "stream",
          "name": "stdout",
          "text": [
            "['라면', '떡볶이', '커피', '짜장면', '파스타', '피자', '치킨']\n"
          ]
        }
      ]
    },
    {
      "cell_type": "code",
      "source": [
        ""
      ],
      "metadata": {
        "id": "gBkQfz8ZC9CQ"
      },
      "execution_count": null,
      "outputs": []
    },
    {
      "cell_type": "code",
      "source": [
        "꺼낸음식=음식.pop()\n",
        "print(꺼낸음식)\n",
        "남는거=[꺼낸음식]\n",
        "print(남는거)"
      ],
      "metadata": {
        "colab": {
          "base_uri": "https://localhost:8080/",
          "height": 227
        },
        "id": "nkh7_0sDCSr_",
        "outputId": "d2197ead-d37d-4711-da80-5e4cf07f2230"
      },
      "execution_count": null,
      "outputs": [
        {
          "output_type": "error",
          "ename": "IndexError",
          "evalue": "ignored",
          "traceback": [
            "\u001b[0;31m---------------------------------------------------------------------------\u001b[0m",
            "\u001b[0;31mIndexError\u001b[0m                                Traceback (most recent call last)",
            "\u001b[0;32m<ipython-input-131-54a6d1706da6>\u001b[0m in \u001b[0;36m<module>\u001b[0;34m()\u001b[0m\n\u001b[0;32m----> 1\u001b[0;31m \u001b[0m꺼낸음식\u001b[0m\u001b[0;34m=\u001b[0m\u001b[0m음식\u001b[0m\u001b[0;34m.\u001b[0m\u001b[0mpop\u001b[0m\u001b[0;34m(\u001b[0m\u001b[0;34m)\u001b[0m\u001b[0;34m\u001b[0m\u001b[0;34m\u001b[0m\u001b[0m\n\u001b[0m\u001b[1;32m      2\u001b[0m \u001b[0mprint\u001b[0m\u001b[0;34m(\u001b[0m\u001b[0m꺼낸음식\u001b[0m\u001b[0;34m)\u001b[0m\u001b[0;34m\u001b[0m\u001b[0;34m\u001b[0m\u001b[0m\n\u001b[1;32m      3\u001b[0m \u001b[0m남는거\u001b[0m\u001b[0;34m=\u001b[0m\u001b[0;34m[\u001b[0m\u001b[0m꺼낸음식\u001b[0m\u001b[0;34m]\u001b[0m\u001b[0;34m\u001b[0m\u001b[0;34m\u001b[0m\u001b[0m\n\u001b[1;32m      4\u001b[0m \u001b[0mprint\u001b[0m\u001b[0;34m(\u001b[0m\u001b[0m남는거\u001b[0m\u001b[0;34m)\u001b[0m\u001b[0;34m\u001b[0m\u001b[0;34m\u001b[0m\u001b[0m\n",
            "\u001b[0;31mIndexError\u001b[0m: pop from empty list"
          ]
        }
      ]
    },
    {
      "cell_type": "code",
      "source": [
        "배열5=[1,1,1,2,3,4,4,'하이','하이',1,2]\n",
        "하이개수=배열5.count('하이')\n",
        "print(하이개수)"
      ],
      "metadata": {
        "colab": {
          "base_uri": "https://localhost:8080/"
        },
        "id": "jxoiamrcCcvK",
        "outputId": "af84fadc-3d21-49ab-8817-5877d7d0ba0e"
      },
      "execution_count": null,
      "outputs": [
        {
          "output_type": "stream",
          "name": "stdout",
          "text": [
            "2\n"
          ]
        }
      ]
    },
    {
      "cell_type": "code",
      "source": [
        "일의개수=배열5.count(1)\n",
        "print(일의개수)"
      ],
      "metadata": {
        "colab": {
          "base_uri": "https://localhost:8080/"
        },
        "id": "s-k4i4u5DsDm",
        "outputId": "27b41381-fc34-4e3a-9f90-0c6ba568d9a2"
      },
      "execution_count": null,
      "outputs": [
        {
          "output_type": "stream",
          "name": "stdout",
          "text": [
            "4\n"
          ]
        }
      ]
    },
    {
      "cell_type": "code",
      "source": [
        "없는거=배열5.count('집행검')\n",
        "print(없는거)"
      ],
      "metadata": {
        "colab": {
          "base_uri": "https://localhost:8080/"
        },
        "id": "zAHP6bIvD1FP",
        "outputId": "33725bfc-03b5-4e6b-8098-cae90769f182"
      },
      "execution_count": null,
      "outputs": [
        {
          "output_type": "stream",
          "name": "stdout",
          "text": [
            "0\n"
          ]
        }
      ]
    },
    {
      "cell_type": "code",
      "source": [
        "배열6=[1,2,3]\n",
        "배열7=[6,5,4]\n",
        "배열7.sort()\n",
        "배열6.extend(배열7)\n",
        "print(배열6,\"배열6\")\n",
        "print(배열7,\"배열7\")"
      ],
      "metadata": {
        "colab": {
          "base_uri": "https://localhost:8080/"
        },
        "id": "6IGmTX6pD9Kd",
        "outputId": "0e827383-5fa5-487b-d84a-1d9a0108a775"
      },
      "execution_count": null,
      "outputs": [
        {
          "output_type": "stream",
          "name": "stdout",
          "text": [
            "[1, 2, 3, 4, 5, 6] 배열6\n",
            "[4, 5, 6] 배열7\n"
          ]
        }
      ]
    },
    {
      "cell_type": "code",
      "source": [
        "배열8=[1,2,3]\n",
        "배열9=배열8.copy()\n",
        "print(배열8,\"배열8\")\n",
        "print(배열9,\"배열9\")\n",
        "배열9[0]=10\n",
        "print(배열8,\"배열8\")\n",
        "print(배열9,\"배열9\")"
      ],
      "metadata": {
        "colab": {
          "base_uri": "https://localhost:8080/"
        },
        "id": "A0pXlQL7EUKp",
        "outputId": "1c44641d-9611-4319-ef23-80cf4298b324"
      },
      "execution_count": null,
      "outputs": [
        {
          "output_type": "stream",
          "name": "stdout",
          "text": [
            "[1, 2, 3] 배열8\n",
            "[1, 2, 3] 배열9\n",
            "[1, 2, 3] 배열8\n",
            "[10, 2, 3] 배열9\n"
          ]
        }
      ]
    },
    {
      "cell_type": "code",
      "source": [
        "배열10=[1,2,3,4,5]\n",
        "print(배열10)\n",
        "배열10.clear()\n",
        "print(배열10)"
      ],
      "metadata": {
        "colab": {
          "base_uri": "https://localhost:8080/"
        },
        "id": "UJl-CuJCFqSr",
        "outputId": "c6df342e-1fc7-4df0-ba21-4947159f1b87"
      },
      "execution_count": null,
      "outputs": [
        {
          "output_type": "stream",
          "name": "stdout",
          "text": [
            "[1, 2, 3, 4, 5]\n",
            "[]\n"
          ]
        }
      ]
    },
    {
      "cell_type": "code",
      "source": [
        "튜플=(1,2,3)\n",
        "print(튜플)"
      ],
      "metadata": {
        "colab": {
          "base_uri": "https://localhost:8080/"
        },
        "id": "9MjuNuYvGomK",
        "outputId": "d3d6318a-d98d-41c1-b7d4-8ef68fe5e4ed"
      },
      "execution_count": null,
      "outputs": [
        {
          "output_type": "stream",
          "name": "stdout",
          "text": [
            "(1, 2, 3)\n"
          ]
        }
      ]
    },
    {
      "cell_type": "code",
      "source": [
        "print(튜플[0])"
      ],
      "metadata": {
        "colab": {
          "base_uri": "https://localhost:8080/"
        },
        "id": "Xs_ERSPgHwzY",
        "outputId": "d2f0064c-5bab-4e8e-f9cf-3edd61dafd58"
      },
      "execution_count": null,
      "outputs": [
        {
          "output_type": "stream",
          "name": "stdout",
          "text": [
            "1\n"
          ]
        }
      ]
    },
    {
      "cell_type": "code",
      "source": [
        "샘플배열=[1,2,3]\n",
        "print(샘플배열)\n",
        "del 샘플배열[0]\n",
        "print(샘플배열)"
      ],
      "metadata": {
        "colab": {
          "base_uri": "https://localhost:8080/"
        },
        "id": "dixbkwuDH7Xq",
        "outputId": "f5f7207a-fc69-4f4f-d7bc-45b4858522fd"
      },
      "execution_count": null,
      "outputs": [
        {
          "output_type": "stream",
          "name": "stdout",
          "text": [
            "[1, 2, 3]\n",
            "[2, 3]\n"
          ]
        }
      ]
    },
    {
      "cell_type": "code",
      "source": [
        "변수=[1]\n",
        "print(변수)\n",
        "del 변수[0]\n",
        "print(변수)"
      ],
      "metadata": {
        "colab": {
          "base_uri": "https://localhost:8080/"
        },
        "id": "kG-o_B9GIItx",
        "outputId": "4182bfe3-51f8-4bb7-9bc9-b1a26e78e2b8"
      },
      "execution_count": null,
      "outputs": [
        {
          "output_type": "stream",
          "name": "stdout",
          "text": [
            "[1]\n",
            "[]\n"
          ]
        }
      ]
    },
    {
      "cell_type": "code",
      "source": [
        "튜플1=(1,2,3,[1,2,3])\n",
        "print(튜플1)\n",
        "튜플1[-1][0]=10\n",
        "print(튜플1)"
      ],
      "metadata": {
        "colab": {
          "base_uri": "https://localhost:8080/"
        },
        "id": "vRMc5XrbIUfN",
        "outputId": "f34dff93-8fb6-4a2b-f2b1-a20a471701f4"
      },
      "execution_count": null,
      "outputs": [
        {
          "output_type": "stream",
          "name": "stdout",
          "text": [
            "(1, 2, 3, [1, 2, 3])\n",
            "(1, 2, 3, [10, 2, 3])\n"
          ]
        }
      ]
    },
    {
      "cell_type": "code",
      "source": [
        "튜플1[:2]"
      ],
      "metadata": {
        "colab": {
          "base_uri": "https://localhost:8080/"
        },
        "id": "2FcAu5ofId35",
        "outputId": "323c55d3-88dd-4745-ae7b-bf7259eb86d0"
      },
      "execution_count": null,
      "outputs": [
        {
          "output_type": "execute_result",
          "data": {
            "text/plain": [
              "(1, 2)"
            ]
          },
          "metadata": {},
          "execution_count": 169
        }
      ]
    },
    {
      "cell_type": "code",
      "source": [
        "dir (튜플)\n"
      ],
      "metadata": {
        "colab": {
          "base_uri": "https://localhost:8080/"
        },
        "id": "9dFZG0P3KBVv",
        "outputId": "0d0383d6-4e71-4c0e-f584-75c706f1afdf"
      },
      "execution_count": null,
      "outputs": [
        {
          "output_type": "execute_result",
          "data": {
            "text/plain": [
              "['__add__',\n",
              " '__class__',\n",
              " '__contains__',\n",
              " '__delattr__',\n",
              " '__dir__',\n",
              " '__doc__',\n",
              " '__eq__',\n",
              " '__format__',\n",
              " '__ge__',\n",
              " '__getattribute__',\n",
              " '__getitem__',\n",
              " '__getnewargs__',\n",
              " '__gt__',\n",
              " '__hash__',\n",
              " '__init__',\n",
              " '__init_subclass__',\n",
              " '__iter__',\n",
              " '__le__',\n",
              " '__len__',\n",
              " '__lt__',\n",
              " '__mul__',\n",
              " '__ne__',\n",
              " '__new__',\n",
              " '__reduce__',\n",
              " '__reduce_ex__',\n",
              " '__repr__',\n",
              " '__rmul__',\n",
              " '__setattr__',\n",
              " '__sizeof__',\n",
              " '__str__',\n",
              " '__subclasshook__',\n",
              " 'count',\n",
              " 'index']"
            ]
          },
          "metadata": {},
          "execution_count": 171
        }
      ]
    },
    {
      "cell_type": "code",
      "source": [
        "len(튜플)"
      ],
      "metadata": {
        "colab": {
          "base_uri": "https://localhost:8080/"
        },
        "id": "4irVZKI7Pa8g",
        "outputId": "5ac67336-134a-4c15-e148-7a736a03df67"
      },
      "execution_count": null,
      "outputs": [
        {
          "output_type": "execute_result",
          "data": {
            "text/plain": [
              "3"
            ]
          },
          "metadata": {},
          "execution_count": 172
        }
      ]
    },
    {
      "cell_type": "code",
      "source": [
        "딕셔너리={'키':'값'}\n",
        "print(딕셔너리)\n",
        "print(딕셔너리['키'])"
      ],
      "metadata": {
        "colab": {
          "base_uri": "https://localhost:8080/"
        },
        "id": "61ZspedmPtUa",
        "outputId": "30e47e7c-f5f7-4ab5-c2f9-4dce8e60b5a0"
      },
      "execution_count": null,
      "outputs": [
        {
          "output_type": "stream",
          "name": "stdout",
          "text": [
            "{'키': '값'}\n",
            "값\n"
          ]
        }
      ]
    },
    {
      "cell_type": "code",
      "source": [
        "print(type(딕셔너리))"
      ],
      "metadata": {
        "colab": {
          "base_uri": "https://localhost:8080/"
        },
        "id": "BXRkr_nsQLYb",
        "outputId": "425fee80-4652-4add-f5a1-828ed464429a"
      },
      "execution_count": null,
      "outputs": [
        {
          "output_type": "stream",
          "name": "stdout",
          "text": [
            "<class 'dict'>\n"
          ]
        }
      ]
    },
    {
      "cell_type": "code",
      "source": [
        "print(type(배열))"
      ],
      "metadata": {
        "colab": {
          "base_uri": "https://localhost:8080/"
        },
        "id": "chlDZdydQaCk",
        "outputId": "28604d92-a9df-42f6-8246-07ec4b79c4c6"
      },
      "execution_count": null,
      "outputs": [
        {
          "output_type": "stream",
          "name": "stdout",
          "text": [
            "<class 'list'>\n"
          ]
        }
      ]
    },
    {
      "cell_type": "code",
      "source": [
        "print(type(튜플))"
      ],
      "metadata": {
        "colab": {
          "base_uri": "https://localhost:8080/"
        },
        "id": "HeWf0n53Qi7j",
        "outputId": "495f1a42-0b1d-4c77-fc28-fd6eed8cace3"
      },
      "execution_count": null,
      "outputs": [
        {
          "output_type": "stream",
          "name": "stdout",
          "text": [
            "<class 'tuple'>\n"
          ]
        }
      ]
    },
    {
      "cell_type": "code",
      "source": [
        "회원정보={\n",
        "    '이름' : '강군혁',\n",
        "    '번호' : '010-0000-0000',\n",
        "    '성별' : '남'\n",
        "}\n",
        "print(회원정보)"
      ],
      "metadata": {
        "colab": {
          "base_uri": "https://localhost:8080/"
        },
        "id": "-vwbZXntQkvE",
        "outputId": "3c45537e-dc40-4e1e-afb2-745b2b55eb92"
      },
      "execution_count": null,
      "outputs": [
        {
          "output_type": "stream",
          "name": "stdout",
          "text": [
            "{'이름': '강군혁', '번호': '010-0000-0000', '성별': '남'}\n"
          ]
        }
      ]
    },
    {
      "cell_type": "code",
      "source": [
        "회원정보['번호']='010-0001-0002'\n",
        "print(회원정보)"
      ],
      "metadata": {
        "colab": {
          "base_uri": "https://localhost:8080/"
        },
        "id": "wEbGQZpoRCcW",
        "outputId": "af0fe644-7673-40a0-b5b3-22bf89536f9c"
      },
      "execution_count": null,
      "outputs": [
        {
          "output_type": "stream",
          "name": "stdout",
          "text": [
            "{'이름': '강군혁', '번호': '010-0001-0002', '성별': '남'}\n"
          ]
        }
      ]
    },
    {
      "cell_type": "code",
      "source": [
        "회원정보2={\n",
        "    '이름':'강군혁',\n",
        "    '번호':'010-0000-0001',\n",
        "    '성별':'남',\n",
        "    '주소':'제주시',\n",
        "    '번호':'010-0000-0000'\n",
        "}\n",
        "print(회원정보2)"
      ],
      "metadata": {
        "colab": {
          "base_uri": "https://localhost:8080/"
        },
        "id": "2rVG0R91Rzhf",
        "outputId": "8c726c98-a8bd-4d4d-88d2-7cb7f4f5ba31"
      },
      "execution_count": null,
      "outputs": [
        {
          "output_type": "stream",
          "name": "stdout",
          "text": [
            "{'이름': '강군혁', '번호': '010-0000-0000', '성별': '남', '주소': '제주시'}\n"
          ]
        }
      ]
    },
    {
      "cell_type": "code",
      "source": [
        "회원정보키=회원정보.keys()\n",
        "회원정보값=회원정보.values()\n",
        "print(회원정보키,\"키\")\n",
        "print(회원정보값,\"값\")"
      ],
      "metadata": {
        "colab": {
          "base_uri": "https://localhost:8080/",
          "height": 136
        },
        "id": "Hw0t5FU4SJ1w",
        "outputId": "a111f0f7-e2b5-44ba-8e8e-305cd94c7172"
      },
      "execution_count": null,
      "outputs": [
        {
          "output_type": "error",
          "ename": "SyntaxError",
          "evalue": "ignored",
          "traceback": [
            "\u001b[0;36m  File \u001b[0;32m\"<ipython-input-192-d15d61929acf>\"\u001b[0;36m, line \u001b[0;32m4\u001b[0m\n\u001b[0;31m    print(회원정보값,\"값\")\\\\\\\\\\\\\\\\\\\\\\\\\\\\\\\\\u001b[0m\n\u001b[0m                                    ^\u001b[0m\n\u001b[0;31mSyntaxError\u001b[0m\u001b[0;31m:\u001b[0m unexpected character after line continuation character\n"
          ]
        }
      ]
    },
    {
      "cell_type": "code",
      "source": [
        "회원정보.get('이름')"
      ],
      "metadata": {
        "colab": {
          "base_uri": "https://localhost:8080/",
          "height": 35
        },
        "id": "xmjmquIlSrK8",
        "outputId": "c6ace217-36c5-477a-d590-3c5cdbb3e015"
      },
      "execution_count": null,
      "outputs": [
        {
          "output_type": "execute_result",
          "data": {
            "text/plain": [
              "'강군혁'"
            ],
            "application/vnd.google.colaboratory.intrinsic+json": {
              "type": "string"
            }
          },
          "metadata": {},
          "execution_count": 193
        }
      ]
    },
    {
      "cell_type": "code",
      "source": [
        "이름get=회원정보.get('이름')\n",
        "이름=회원정보['이름']\n",
        "print(이름get,'get이용')\n",
        "print(이름,'key이용하여 가져옴')"
      ],
      "metadata": {
        "colab": {
          "base_uri": "https://localhost:8080/"
        },
        "id": "OrUQ9MQFTGDJ",
        "outputId": "c5a4f9df-8857-46a2-b608-09f96c9a97bf"
      },
      "execution_count": null,
      "outputs": [
        {
          "output_type": "stream",
          "name": "stdout",
          "text": [
            "강군혁 get이용\n",
            "강군혁 key이용하여 가져옴\n"
          ]
        }
      ]
    },
    {
      "cell_type": "code",
      "source": [
        "샘플딕셔너리={'배열1':[1,2,3]}\n",
        "배열get=샘플딕셔너리.get('배열2')\n"
      ],
      "metadata": {
        "id": "u6ALIC-PTg-a"
      },
      "execution_count": null,
      "outputs": []
    },
    {
      "cell_type": "code",
      "source": [
        "print(배열get)"
      ],
      "metadata": {
        "colab": {
          "base_uri": "https://localhost:8080/"
        },
        "id": "q1Pz9YUKT87d",
        "outputId": "01641464-4d99-41d2-9409-241561b6c82f"
      },
      "execution_count": null,
      "outputs": [
        {
          "output_type": "stream",
          "name": "stdout",
          "text": [
            "None\n"
          ]
        }
      ]
    },
    {
      "cell_type": "code",
      "source": [
        "'이름' in 회원정보"
      ],
      "metadata": {
        "colab": {
          "base_uri": "https://localhost:8080/"
        },
        "id": "s7ANGOtfUBC7",
        "outputId": "34c06588-3ede-4e29-aeb5-f902ebf8f735"
      },
      "execution_count": null,
      "outputs": [
        {
          "output_type": "execute_result",
          "data": {
            "text/plain": [
              "True"
            ]
          },
          "metadata": {},
          "execution_count": 205
        }
      ]
    },
    {
      "cell_type": "code",
      "source": [
        "print(True)"
      ],
      "metadata": {
        "colab": {
          "base_uri": "https://localhost:8080/"
        },
        "id": "8QWOQNtmUOdE",
        "outputId": "0ab07c69-068c-4bca-8c43-4474a6c2d63b"
      },
      "execution_count": null,
      "outputs": [
        {
          "output_type": "stream",
          "name": "stdout",
          "text": [
            "True\n"
          ]
        }
      ]
    },
    {
      "cell_type": "code",
      "source": [
        "print(type(False))"
      ],
      "metadata": {
        "colab": {
          "base_uri": "https://localhost:8080/"
        },
        "id": "TZz4WRaRUtcK",
        "outputId": "a0b409e0-abdb-464c-d466-a7e9ea9ba5a8"
      },
      "execution_count": null,
      "outputs": [
        {
          "output_type": "stream",
          "name": "stdout",
          "text": [
            "<class 'bool'>\n"
          ]
        }
      ]
    },
    {
      "cell_type": "code",
      "source": [
        "dir(bool)"
      ],
      "metadata": {
        "colab": {
          "base_uri": "https://localhost:8080/"
        },
        "id": "if1pOxvsUwu3",
        "outputId": "6ca43d94-1978-41fa-9f32-347287144a31"
      },
      "execution_count": null,
      "outputs": [
        {
          "output_type": "execute_result",
          "data": {
            "text/plain": [
              "['__abs__',\n",
              " '__add__',\n",
              " '__and__',\n",
              " '__bool__',\n",
              " '__ceil__',\n",
              " '__class__',\n",
              " '__delattr__',\n",
              " '__dir__',\n",
              " '__divmod__',\n",
              " '__doc__',\n",
              " '__eq__',\n",
              " '__float__',\n",
              " '__floor__',\n",
              " '__floordiv__',\n",
              " '__format__',\n",
              " '__ge__',\n",
              " '__getattribute__',\n",
              " '__getnewargs__',\n",
              " '__gt__',\n",
              " '__hash__',\n",
              " '__index__',\n",
              " '__init__',\n",
              " '__init_subclass__',\n",
              " '__int__',\n",
              " '__invert__',\n",
              " '__le__',\n",
              " '__lshift__',\n",
              " '__lt__',\n",
              " '__mod__',\n",
              " '__mul__',\n",
              " '__ne__',\n",
              " '__neg__',\n",
              " '__new__',\n",
              " '__or__',\n",
              " '__pos__',\n",
              " '__pow__',\n",
              " '__radd__',\n",
              " '__rand__',\n",
              " '__rdivmod__',\n",
              " '__reduce__',\n",
              " '__reduce_ex__',\n",
              " '__repr__',\n",
              " '__rfloordiv__',\n",
              " '__rlshift__',\n",
              " '__rmod__',\n",
              " '__rmul__',\n",
              " '__ror__',\n",
              " '__round__',\n",
              " '__rpow__',\n",
              " '__rrshift__',\n",
              " '__rshift__',\n",
              " '__rsub__',\n",
              " '__rtruediv__',\n",
              " '__rxor__',\n",
              " '__setattr__',\n",
              " '__sizeof__',\n",
              " '__str__',\n",
              " '__sub__',\n",
              " '__subclasshook__',\n",
              " '__truediv__',\n",
              " '__trunc__',\n",
              " '__xor__',\n",
              " 'bit_length',\n",
              " 'conjugate',\n",
              " 'denominator',\n",
              " 'from_bytes',\n",
              " 'imag',\n",
              " 'numerator',\n",
              " 'real',\n",
              " 'to_bytes']"
            ]
          },
          "metadata": {},
          "execution_count": 210
        }
      ]
    },
    {
      "cell_type": "code",
      "source": [
        "숫자1=10\n",
        "숫자2=20"
      ],
      "metadata": {
        "id": "6iK0kIv3U2aa"
      },
      "execution_count": null,
      "outputs": []
    },
    {
      "cell_type": "code",
      "source": [
        "숫자1>숫자2"
      ],
      "metadata": {
        "colab": {
          "base_uri": "https://localhost:8080/"
        },
        "id": "18kLqfbNVOjo",
        "outputId": "9d568b05-26bf-4251-deb3-65a92dca8d3a"
      },
      "execution_count": null,
      "outputs": [
        {
          "output_type": "execute_result",
          "data": {
            "text/plain": [
              "False"
            ]
          },
          "metadata": {},
          "execution_count": 212
        }
      ]
    },
    {
      "cell_type": "code",
      "source": [
        "숫자1<숫자2"
      ],
      "metadata": {
        "colab": {
          "base_uri": "https://localhost:8080/"
        },
        "id": "J3eMo39qVR77",
        "outputId": "918f0977-489c-4193-e08b-fb25136601b9"
      },
      "execution_count": null,
      "outputs": [
        {
          "output_type": "execute_result",
          "data": {
            "text/plain": [
              "True"
            ]
          },
          "metadata": {},
          "execution_count": 213
        }
      ]
    },
    {
      "cell_type": "code",
      "source": [
        "결과1=숫자1<숫자2\n",
        "print(결과1)"
      ],
      "metadata": {
        "colab": {
          "base_uri": "https://localhost:8080/"
        },
        "id": "XeUFkfs3VU-B",
        "outputId": "408d9157-d309-4f3c-914c-a12cb792999e"
      },
      "execution_count": null,
      "outputs": [
        {
          "output_type": "stream",
          "name": "stdout",
          "text": [
            "True\n"
          ]
        }
      ]
    },
    {
      "cell_type": "code",
      "source": [
        "결과3=숫자1>=숫자2\n",
        "print(결과3)"
      ],
      "metadata": {
        "colab": {
          "base_uri": "https://localhost:8080/"
        },
        "id": "jAVzkHnAVcyz",
        "outputId": "3657d85e-a0af-4039-bd85-e1e87d18c728"
      },
      "execution_count": null,
      "outputs": [
        {
          "output_type": "stream",
          "name": "stdout",
          "text": [
            "False\n"
          ]
        }
      ]
    },
    {
      "cell_type": "code",
      "source": [
        "숫자1==숫자2"
      ],
      "metadata": {
        "colab": {
          "base_uri": "https://localhost:8080/"
        },
        "id": "QdTncC7ZVm0K",
        "outputId": "873331ee-2238-49ac-e4dd-d77b726c5179"
      },
      "execution_count": null,
      "outputs": [
        {
          "output_type": "execute_result",
          "data": {
            "text/plain": [
              "False"
            ]
          },
          "metadata": {},
          "execution_count": 217
        }
      ]
    },
    {
      "cell_type": "code",
      "source": [
        "숫자1!=숫자2"
      ],
      "metadata": {
        "colab": {
          "base_uri": "https://localhost:8080/"
        },
        "id": "GQitdAOLVwCx",
        "outputId": "8f9fb0da-de7b-490c-f891-7929d25f805b"
      },
      "execution_count": null,
      "outputs": [
        {
          "output_type": "execute_result",
          "data": {
            "text/plain": [
              "True"
            ]
          },
          "metadata": {},
          "execution_count": 219
        }
      ]
    },
    {
      "cell_type": "code",
      "source": [
        "if False:\n",
        "  print('거짓입니다')"
      ],
      "metadata": {
        "id": "EJHdoP7SVysu"
      },
      "execution_count": null,
      "outputs": []
    },
    {
      "cell_type": "code",
      "source": [
        "if True:\n",
        "  print('참입니다')"
      ],
      "metadata": {
        "colab": {
          "base_uri": "https://localhost:8080/"
        },
        "id": "FLFN2AR1Wo7g",
        "outputId": "2a7eeffc-0de9-45f1-8136-8656df6aefea"
      },
      "execution_count": null,
      "outputs": [
        {
          "output_type": "stream",
          "name": "stdout",
          "text": [
            "참입니다\n"
          ]
        }
      ]
    },
    {
      "cell_type": "code",
      "source": [
        "not True"
      ],
      "metadata": {
        "colab": {
          "base_uri": "https://localhost:8080/"
        },
        "id": "9bkvLmHJWu-v",
        "outputId": "1f0991f5-859d-41dc-881c-5eea4d4cd826"
      },
      "execution_count": null,
      "outputs": [
        {
          "output_type": "execute_result",
          "data": {
            "text/plain": [
              "False"
            ]
          },
          "metadata": {},
          "execution_count": 223
        }
      ]
    },
    {
      "cell_type": "code",
      "source": [
        "not False"
      ],
      "metadata": {
        "colab": {
          "base_uri": "https://localhost:8080/"
        },
        "id": "5EdJpaFRW75q",
        "outputId": "85df9a8b-e36d-4863-8547-041e2a4291b6"
      },
      "execution_count": null,
      "outputs": [
        {
          "output_type": "execute_result",
          "data": {
            "text/plain": [
              "True"
            ]
          },
          "metadata": {},
          "execution_count": 224
        }
      ]
    },
    {
      "cell_type": "code",
      "source": [
        "조건 = True\n",
        "if not 조건:\n",
        "  print('거짓입니다')\n",
        "else:\n",
        "  print('조건에 맞는것이 없습니다')\n",
        "\n"
      ],
      "metadata": {
        "colab": {
          "base_uri": "https://localhost:8080/"
        },
        "id": "92TjWICNW_3d",
        "outputId": "e71a9bcd-1b2f-406d-ed10-8cfb560724cf"
      },
      "execution_count": null,
      "outputs": [
        {
          "output_type": "stream",
          "name": "stdout",
          "text": [
            "조건에 맞는것이 없습니다\n"
          ]
        }
      ]
    },
    {
      "cell_type": "code",
      "source": [
        "숫자1=1\n",
        "숫자2=10\n",
        "숫자3=15\n",
        "if 숫자1>5:\n",
        "  plrint('숫자1이 5보다 큽니다')\n",
        "elif 숫자2<11:\n",
        "  print(\"숫자2가 11보다 작습니다\")\n",
        "else:\n",
        "  print(숫자3,\"마지막 숫자입니다\")  \n"
      ],
      "metadata": {
        "colab": {
          "base_uri": "https://localhost:8080/"
        },
        "id": "wwGAq7mjXDqi",
        "outputId": "61ec7597-37f8-41df-dfda-80874153d0ed"
      },
      "execution_count": null,
      "outputs": [
        {
          "output_type": "stream",
          "name": "stdout",
          "text": [
            "숫자2가 11보다 작습니다\n"
          ]
        }
      ]
    },
    {
      "cell_type": "code",
      "source": [
        "print(False and False)"
      ],
      "metadata": {
        "colab": {
          "base_uri": "https://localhost:8080/"
        },
        "id": "qXjagjakXyzp",
        "outputId": "232d8a55-a35d-4c5f-b27b-25b0f28b5881"
      },
      "execution_count": null,
      "outputs": [
        {
          "output_type": "stream",
          "name": "stdout",
          "text": [
            "False\n"
          ]
        }
      ]
    },
    {
      "cell_type": "code",
      "source": [
        "print(True and False)"
      ],
      "metadata": {
        "colab": {
          "base_uri": "https://localhost:8080/"
        },
        "id": "wAEa_58gY8LT",
        "outputId": "cc58ae67-70b1-4556-ad6c-858e3e38413c"
      },
      "execution_count": null,
      "outputs": [
        {
          "output_type": "stream",
          "name": "stdout",
          "text": [
            "False\n"
          ]
        }
      ]
    },
    {
      "cell_type": "code",
      "source": [
        "print(True or False)"
      ],
      "metadata": {
        "colab": {
          "base_uri": "https://localhost:8080/"
        },
        "id": "u3YSLeX9ZE8S",
        "outputId": "43c9fc37-50f2-49b5-b16a-374746fc4811"
      },
      "execution_count": null,
      "outputs": [
        {
          "output_type": "stream",
          "name": "stdout",
          "text": [
            "True\n"
          ]
        }
      ]
    },
    {
      "cell_type": "code",
      "source": [
        "print(True and True)"
      ],
      "metadata": {
        "colab": {
          "base_uri": "https://localhost:8080/"
        },
        "id": "NMKN0hPhZK6P",
        "outputId": "f7f093fb-11e6-40b1-eaec-fd903c901364"
      },
      "execution_count": null,
      "outputs": [
        {
          "output_type": "stream",
          "name": "stdout",
          "text": [
            "True\n"
          ]
        }
      ]
    },
    {
      "cell_type": "code",
      "source": [
        "숫자1\n"
      ],
      "metadata": {
        "colab": {
          "base_uri": "https://localhost:8080/"
        },
        "id": "tyTGh4iEZOJZ",
        "outputId": "95ada512-a336-4e02-bb64-4b950699bccc"
      },
      "execution_count": null,
      "outputs": [
        {
          "output_type": "execute_result",
          "data": {
            "text/plain": [
              "1"
            ]
          },
          "metadata": {},
          "execution_count": 239
        }
      ]
    },
    {
      "cell_type": "code",
      "source": [
        "if 숫자1>5 or 숫자2<11:\n",
        "  print(\"숫자1이 5보다 큽니다. 또는 숫자2가 11보다 작습니다\")"
      ],
      "metadata": {
        "colab": {
          "base_uri": "https://localhost:8080/"
        },
        "id": "rVaLprV-ZXxr",
        "outputId": "ec82928b-5160-4e8b-907d-932e17a864d4"
      },
      "execution_count": null,
      "outputs": [
        {
          "output_type": "stream",
          "name": "stdout",
          "text": [
            "숫자1이 5보다 큽니다. 또는 숫자2가 11보다 작습니다\n"
          ]
        }
      ]
    },
    {
      "cell_type": "code",
      "source": [
        "입력받은값=input()"
      ],
      "metadata": {
        "colab": {
          "base_uri": "https://localhost:8080/"
        },
        "id": "5K9jsTdBZpoD",
        "outputId": "799542a6-45e8-4793-c8d6-a5ab810c90aa"
      },
      "execution_count": null,
      "outputs": [
        {
          "name": "stdout",
          "output_type": "stream",
          "text": [
            "10\n"
          ]
        }
      ]
    },
    {
      "cell_type": "code",
      "source": [
        "print(입력받은값)"
      ],
      "metadata": {
        "colab": {
          "base_uri": "https://localhost:8080/"
        },
        "id": "aEFrLoHyZ0FO",
        "outputId": "5d09449b-861a-46e2-b75b-06c427977676"
      },
      "execution_count": null,
      "outputs": [
        {
          "output_type": "stream",
          "name": "stdout",
          "text": [
            "10\n"
          ]
        }
      ]
    },
    {
      "cell_type": "code",
      "source": [
        "print(입력받은값>5)"
      ],
      "metadata": {
        "colab": {
          "base_uri": "https://localhost:8080/",
          "height": 172
        },
        "id": "tYeuzjVWZ31w",
        "outputId": "969c53eb-c923-4396-d6e1-dee3ce8df1f5"
      },
      "execution_count": null,
      "outputs": [
        {
          "output_type": "error",
          "ename": "TypeError",
          "evalue": "ignored",
          "traceback": [
            "\u001b[0;31m---------------------------------------------------------------------------\u001b[0m",
            "\u001b[0;31mTypeError\u001b[0m                                 Traceback (most recent call last)",
            "\u001b[0;32m<ipython-input-247-3413a196d0a9>\u001b[0m in \u001b[0;36m<module>\u001b[0;34m()\u001b[0m\n\u001b[0;32m----> 1\u001b[0;31m \u001b[0mprint\u001b[0m\u001b[0;34m(\u001b[0m\u001b[0m입력받은값\u001b[0m\u001b[0;34m>\u001b[0m\u001b[0;36m5\u001b[0m\u001b[0;34m)\u001b[0m\u001b[0;34m\u001b[0m\u001b[0;34m\u001b[0m\u001b[0m\n\u001b[0m",
            "\u001b[0;31mTypeError\u001b[0m: '>' not supported between instances of 'str' and 'int'"
          ]
        }
      ]
    },
    {
      "cell_type": "code",
      "source": [
        "print(type(입력받은값))"
      ],
      "metadata": {
        "colab": {
          "base_uri": "https://localhost:8080/"
        },
        "id": "yLLf6QBcaA3Q",
        "outputId": "f55ff824-b9a8-4a65-a0e3-fa48ea987b42"
      },
      "execution_count": null,
      "outputs": [
        {
          "output_type": "stream",
          "name": "stdout",
          "text": [
            "<class 'str'>\n"
          ]
        }
      ]
    },
    {
      "cell_type": "code",
      "source": [
        "입력받은숫자=int(입력받은값)"
      ],
      "metadata": {
        "id": "_Vn8cCgFaNvL"
      },
      "execution_count": null,
      "outputs": []
    },
    {
      "cell_type": "code",
      "source": [
        "print(type(입력받은숫자))"
      ],
      "metadata": {
        "colab": {
          "base_uri": "https://localhost:8080/"
        },
        "id": "u6quSW-QaoNi",
        "outputId": "a33556a1-522a-4e97-a7d8-1fb98b8c5980"
      },
      "execution_count": null,
      "outputs": [
        {
          "output_type": "stream",
          "name": "stdout",
          "text": [
            "<class 'int'>\n"
          ]
        }
      ]
    },
    {
      "cell_type": "code",
      "source": [
        "\n",
        "첫번째숫자 = int(input())\n",
        "두번째숫자 = int(input())\n",
        "\n",
        "if (첫번째숫자>두번째숫자):\n",
        "  print(\"첫번째 숫자가 큽니다\")\n",
        "elif(첫번째숫자==두번째숫자):\n",
        "  print(\"숫자가 같습니다\")\n",
        "else:\n",
        "  print(\"두번째 숫자가 큽니다\")    \n"
      ],
      "metadata": {
        "colab": {
          "base_uri": "https://localhost:8080/"
        },
        "id": "5DX9Q6JrasPn",
        "outputId": "b249edb9-fee8-47ea-9568-96062afd84a8"
      },
      "execution_count": null,
      "outputs": [
        {
          "output_type": "stream",
          "name": "stdout",
          "text": [
            "100\n",
            "200\n",
            "두번째 숫자가 큽니다\n"
          ]
        }
      ]
    },
    {
      "cell_type": "code",
      "source": [
        "카운트=0\n",
        "\n",
        "while 카운트<10:\n",
        " \n",
        "  카운트=카운트+1\n",
        "  if (카운트==1):\n",
        "    continue\n",
        "    \n",
        "  if (카운트%2==1):\n",
        "     print(카운트)\n",
        "    "
      ],
      "metadata": {
        "colab": {
          "base_uri": "https://localhost:8080/"
        },
        "id": "VV83n9nifiyM",
        "outputId": "61430eb5-5100-4f33-d4e9-628f74b3edff"
      },
      "execution_count": null,
      "outputs": [
        {
          "output_type": "stream",
          "name": "stdout",
          "text": [
            "3\n",
            "5\n",
            "7\n",
            "9\n"
          ]
        }
      ]
    },
    {
      "cell_type": "code",
      "source": [
        "for 숫자 in [10,1,2,3,4]:\n",
        "  print(숫자)\n",
        "  "
      ],
      "metadata": {
        "colab": {
          "base_uri": "https://localhost:8080/"
        },
        "id": "jhd4ZF3mg1-0",
        "outputId": "be961b66-a8d7-4930-d3ec-32a2232ed50f"
      },
      "execution_count": null,
      "outputs": [
        {
          "output_type": "stream",
          "name": "stdout",
          "text": [
            "10\n",
            "1\n",
            "2\n",
            "3\n",
            "4\n"
          ]
        }
      ]
    },
    {
      "cell_type": "code",
      "source": [
        "레인지=range(10)\n",
        "print(레인지)"
      ],
      "metadata": {
        "colab": {
          "base_uri": "https://localhost:8080/"
        },
        "id": "H_-DooWfh4uf",
        "outputId": "ca84d3fd-f885-46a9-d74e-21b48c660c43"
      },
      "execution_count": null,
      "outputs": [
        {
          "output_type": "stream",
          "name": "stdout",
          "text": [
            "range(0, 10)\n"
          ]
        }
      ]
    },
    {
      "cell_type": "code",
      "source": [
        "for 숫자 in range(10):\n",
        "  if (숫자%2==1):\n",
        "    print(숫자)"
      ],
      "metadata": {
        "colab": {
          "base_uri": "https://localhost:8080/"
        },
        "id": "rjEUEvITidiz",
        "outputId": "606b16cb-0d2e-472d-93a5-7af9bcbb16ca"
      },
      "execution_count": null,
      "outputs": [
        {
          "output_type": "stream",
          "name": "stdout",
          "text": [
            "1\n",
            "3\n",
            "5\n",
            "7\n",
            "9\n"
          ]
        }
      ]
    },
    {
      "cell_type": "code",
      "source": [
        ""
      ],
      "metadata": {
        "id": "xZsHvsScjyhR"
      },
      "execution_count": null,
      "outputs": []
    },
    {
      "cell_type": "code",
      "source": [
        "for 숫자 in range(2,10):\n",
        "  for 숫자2 in range(2,10):\n",
        "    print(숫자,\"X\",숫자2,\"=\",숫자*숫자2,sep=\"\")"
      ],
      "metadata": {
        "colab": {
          "base_uri": "https://localhost:8080/"
        },
        "id": "GLQdoj5AitiJ",
        "outputId": "288549e7-b61e-45c9-9763-df607f6dc5d9"
      },
      "execution_count": null,
      "outputs": [
        {
          "output_type": "stream",
          "name": "stdout",
          "text": [
            "2X2=4\n",
            "2X3=6\n",
            "2X4=8\n",
            "2X5=10\n",
            "2X6=12\n",
            "2X7=14\n",
            "2X8=16\n",
            "2X9=18\n",
            "3X2=6\n",
            "3X3=9\n",
            "3X4=12\n",
            "3X5=15\n",
            "3X6=18\n",
            "3X7=21\n",
            "3X8=24\n",
            "3X9=27\n",
            "4X2=8\n",
            "4X3=12\n",
            "4X4=16\n",
            "4X5=20\n",
            "4X6=24\n",
            "4X7=28\n",
            "4X8=32\n",
            "4X9=36\n",
            "5X2=10\n",
            "5X3=15\n",
            "5X4=20\n",
            "5X5=25\n",
            "5X6=30\n",
            "5X7=35\n",
            "5X8=40\n",
            "5X9=45\n",
            "6X2=12\n",
            "6X3=18\n",
            "6X4=24\n",
            "6X5=30\n",
            "6X6=36\n",
            "6X7=42\n",
            "6X8=48\n",
            "6X9=54\n",
            "7X2=14\n",
            "7X3=21\n",
            "7X4=28\n",
            "7X5=35\n",
            "7X6=42\n",
            "7X7=49\n",
            "7X8=56\n",
            "7X9=63\n",
            "8X2=16\n",
            "8X3=24\n",
            "8X4=32\n",
            "8X5=40\n",
            "8X6=48\n",
            "8X7=56\n",
            "8X8=64\n",
            "8X9=72\n",
            "9X2=18\n",
            "9X3=27\n",
            "9X4=36\n",
            "9X5=45\n",
            "9X6=54\n",
            "9X7=63\n",
            "9X8=72\n",
            "9X9=81\n"
          ]
        }
      ]
    },
    {
      "cell_type": "code",
      "source": [
        ""
      ],
      "metadata": {
        "id": "rKEIcNmckcdq"
      },
      "execution_count": null,
      "outputs": []
    }
  ]
}