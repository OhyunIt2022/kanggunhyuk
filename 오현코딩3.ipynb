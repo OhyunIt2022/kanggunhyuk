{
  "nbformat": 4,
  "nbformat_minor": 0,
  "metadata": {
    "colab": {
      "name": "오현코딩3",
      "provenance": []
    },
    "kernelspec": {
      "name": "python3",
      "display_name": "Python 3"
    },
    "language_info": {
      "name": "python"
    }
  },
  "cells": [
    {
      "cell_type": "code",
      "execution_count": 70,
      "metadata": {
        "id": "G88-igbpC5A7",
        "colab": {
          "base_uri": "https://localhost:8080/"
        },
        "outputId": "caa39bb2-a0de-4f72-cc7e-78bf0322e7b6"
      },
      "outputs": [
        {
          "output_type": "stream",
          "name": "stdout",
          "text": [
            "사칙연산 기호(+-*/)를 입력해주세요./\n",
            "첫번째숫자를 입력해주세요.1\n",
            "두번째숫자를 입력해주세요.2\n",
            "나누기입니다.\n",
            "0.5\n",
            "종료하려면 종료를 입력해주세요.종료\n",
            "종료합니다.\n"
          ]
        }
      ],
      "source": [
        "2\n",
        "while True:\n",
        "  #입력값 받기\n",
        "  사칙연산 = input(\"사칙연산 기호(+-*/)를 입력해주세요.\")\n",
        "  첫번째숫자= int(input(\"첫번째숫자를 입력해주세요.\"))\n",
        "  두번째숫자= int(input(\"두번째숫자를 입력해주세요.\"))\n",
        "  #계산 및 출력\n",
        "  if 사칙연산 == \"+\":\n",
        "    print(\"더하기입니다.\")\n",
        "    print(첫번째숫자+두번째숫자)\n",
        "  elif   사칙연산 == \"-\":\n",
        "    print(\"빼기입니다.\")\n",
        "    print(첫번째숫자-두번째숫자)\n",
        "  elif   사칙연산 == \"*\":\n",
        "    print(\"곱하기입니다.\")\n",
        "    print(첫번째숫자*두번째숫자)\n",
        "  elif   사칙연산 == \"/\":\n",
        "    print(\"나누기입니다.\")\n",
        "    print(첫번째숫자/두번째숫자)  \n",
        "  #종료 여부 확인 후 종료\n",
        "  종료여부 = input(\"종료하려면 종료를 입력해주세요.\")\n",
        "  if 종료여부 ==\"종료\":\n",
        "    print(\"종료합니다.\")\n",
        "    break   "
      ]
    },
    {
      "cell_type": "code",
      "source": [
        "def 값입력하기():\n",
        "    사칙연산 = input(\"사칙연산 기호(+-*/)를 입력해주세요.\")\n",
        "    첫번째숫자= int(input(\"첫번째숫자를 입력해주세요.\"))\n",
        "    두번째숫자= int(input(\"두번째숫자를 입력해주세요.\"))\n",
        "    return 사칙연산, 첫번째숫자, 두번째숫자\n",
        "사칙연산, 첫번째숫자, 두번째숫자 = 값입력하기()    \n",
        "def 계산및출력(사칙연산, 첫번째숫자, 두번째숫자):\n",
        "  if 사칙연산 == \"+\":\n",
        "    print(\"더하기입니다.\")\n",
        "    print(첫번째숫자+두번째숫자)\n",
        "  elif   사칙연산 == \"-\":\n",
        "    print(\"빼기입니다.\")\n",
        "    print(첫번째숫자-두번째숫자)\n",
        "  elif   사칙연산 == \"*\":\n",
        "    print(\"곱하기입니다.\")\n",
        "    print(첫번째숫자*두번째숫자)\n",
        "  elif   사칙연산 == \"/\":\n",
        "    print(\"나누기입니다.\")\n",
        "    print(첫번째숫자/두번째숫자)\n",
        "def 종료여부확인():\n",
        "    종료여부 = input(\"종료하려면 종료를 입력해주세요.\")\n",
        "    return 종료여부==\"종료\""
      ],
      "metadata": {
        "colab": {
          "base_uri": "https://localhost:8080/"
        },
        "id": "QTIuaWhFVpPy",
        "outputId": "5c606710-4636-47d9-ef47-1db70d1a0958"
      },
      "execution_count": 71,
      "outputs": [
        {
          "name": "stdout",
          "output_type": "stream",
          "text": [
            "사칙연산 기호(+-*/)를 입력해주세요./\n",
            "첫번째숫자를 입력해주세요.1\n",
            "두번째숫자를 입력해주세요.2\n"
          ]
        }
      ]
    },
    {
      "cell_type": "code",
      "source": [
        "while True:\n",
        "  기호, 첫번째숫자,두번째숫자 = 값입력하기()\n",
        "  계산및출력(기호, 첫번째숫자,두번째숫자)\n",
        "  종료여부 = 종료여부확인()\n",
        "  if 종료여부:\n",
        "    break"
      ],
      "metadata": {
        "colab": {
          "base_uri": "https://localhost:8080/"
        },
        "id": "RXxN19yrYnNo",
        "outputId": "b025f529-17ac-4e51-f2b9-b6f376f9405c"
      },
      "execution_count": 74,
      "outputs": [
        {
          "name": "stdout",
          "output_type": "stream",
          "text": [
            "사칙연산 기호(+-*/)를 입력해주세요./\n",
            "첫번째숫자를 입력해주세요.1\n",
            "두번째숫자를 입력해주세요.2\n",
            "나누기입니다.\n",
            "0.5\n",
            "종료하려면 종료를 입력해주세요.종료\n"
          ]
        }
      ]
    },
    {
      "cell_type": "code",
      "source": [
        "def 계산기():\n",
        "    while True:\n",
        "     기호, 첫번째숫자,두번째숫자 = 값입력하기()\n",
        "     계산및출력(기호, 첫번째숫자,두번째숫자)\n",
        "     종료여부 = 종료여부확인()\n",
        "     if 종료여부:\n",
        "        break"
      ],
      "metadata": {
        "id": "OgNtyeXEZt-y"
      },
      "execution_count": 76,
      "outputs": []
    },
    {
      "cell_type": "code",
      "source": [
        "계산기()"
      ],
      "metadata": {
        "colab": {
          "base_uri": "https://localhost:8080/"
        },
        "id": "A6UsRmsjaZ0H",
        "outputId": "85c3d06e-bbb0-43b3-fcc1-b549892c2ad8"
      },
      "execution_count": 77,
      "outputs": [
        {
          "name": "stdout",
          "output_type": "stream",
          "text": [
            "사칙연산 기호(+-*/)를 입력해주세요./\n",
            "첫번째숫자를 입력해주세요.1\n",
            "두번째숫자를 입력해주세요.2\n",
            "나누기입니다.\n",
            "0.5\n",
            "종료하려면 종료를 입력해주세요.종료\n"
          ]
        }
      ]
    },
    {
      "cell_type": "code",
      "source": [
        "종료여부확인()"
      ],
      "metadata": {
        "colab": {
          "base_uri": "https://localhost:8080/"
        },
        "id": "apACeJ6GX_tn",
        "outputId": "e994e460-1685-4592-ac25-f358d2fe7a18"
      },
      "execution_count": 66,
      "outputs": [
        {
          "name": "stdout",
          "output_type": "stream",
          "text": [
            "종료하려면 종료를 입력해주세요.이ㅏㄹ\n"
          ]
        },
        {
          "output_type": "execute_result",
          "data": {
            "text/plain": [
              "False"
            ]
          },
          "metadata": {},
          "execution_count": 66
        }
      ]
    },
    {
      "cell_type": "code",
      "source": [
        "계산및출력(사칙연산=\"+\",첫번째숫자=10,두번째숫자=20)"
      ],
      "metadata": {
        "colab": {
          "base_uri": "https://localhost:8080/"
        },
        "id": "yoR4byh7XLNZ",
        "outputId": "00b8ea03-d7d8-43a0-98a5-5504dc529de2"
      },
      "execution_count": 60,
      "outputs": [
        {
          "output_type": "stream",
          "name": "stdout",
          "text": [
            "더하기입니다.\n",
            "30\n"
          ]
        }
      ]
    },
    {
      "cell_type": "code",
      "source": [
        "사칙연산, 첫번째숫자, 두번째숫자 = 값입력하기()"
      ],
      "metadata": {
        "colab": {
          "base_uri": "https://localhost:8080/"
        },
        "id": "vSc8G95gV6pa",
        "outputId": "fd76e678-60d4-42c5-d04f-22dafb5a30f0"
      },
      "execution_count": 49,
      "outputs": [
        {
          "name": "stdout",
          "output_type": "stream",
          "text": [
            "사칙연산 기호(+-*/)를 입력해주세요.+\n",
            "첫번째숫자를 입력해주세요.1\n",
            "두번째숫자를 입력해주세요.2\n"
          ]
        }
      ]
    },
    {
      "cell_type": "code",
      "source": [
        "print(사칙연산, 첫번째숫자, 두번째숫자)"
      ],
      "metadata": {
        "colab": {
          "base_uri": "https://localhost:8080/"
        },
        "id": "JI0NLN-zWFFy",
        "outputId": "ff525482-f07c-4abb-f79b-24f2da7a458c"
      },
      "execution_count": 50,
      "outputs": [
        {
          "output_type": "stream",
          "name": "stdout",
          "text": [
            "+ 1 2\n"
          ]
        }
      ]
    },
    {
      "cell_type": "code",
      "source": [
        "def hello():\n",
        "  print(\"안녕하세요\")"
      ],
      "metadata": {
        "id": "HBS4rSO_HS3y"
      },
      "execution_count": 5,
      "outputs": []
    },
    {
      "cell_type": "code",
      "source": [
        "def helloToName(name):\n",
        "  print(name, \"님 안녕하세요\")"
      ],
      "metadata": {
        "id": "w0nc6iVnLYqy"
      },
      "execution_count": 11,
      "outputs": []
    },
    {
      "cell_type": "code",
      "source": [
        "helloToName(\"강군혁\")"
      ],
      "metadata": {
        "colab": {
          "base_uri": "https://localhost:8080/"
        },
        "id": "_vOxfkdrLl0A",
        "outputId": "be779ec0-8f70-4ad7-d31f-1c58b903afee"
      },
      "execution_count": 13,
      "outputs": [
        {
          "output_type": "stream",
          "name": "stdout",
          "text": [
            "강군혁 님 안녕하세요\n"
          ]
        }
      ]
    },
    {
      "cell_type": "code",
      "source": [
        "def add(num,num2):\n",
        "  result=num+num2\n",
        "  print(result)"
      ],
      "metadata": {
        "id": "WE1AjA8gLzQK"
      },
      "execution_count": 18,
      "outputs": []
    },
    {
      "cell_type": "code",
      "source": [
        "add(1,2)"
      ],
      "metadata": {
        "colab": {
          "base_uri": "https://localhost:8080/"
        },
        "id": "CrE5TREsL8i2",
        "outputId": "c7222b80-c6a4-4d60-c560-60d78ac53898"
      },
      "execution_count": 20,
      "outputs": [
        {
          "output_type": "stream",
          "name": "stdout",
          "text": [
            "3\n"
          ]
        }
      ]
    },
    {
      "cell_type": "code",
      "source": [
        "def add2(num,num2):\n",
        "  result=num+num2\n",
        "  return result"
      ],
      "metadata": {
        "id": "EMRtIZ3fMF12"
      },
      "execution_count": 25,
      "outputs": []
    },
    {
      "cell_type": "code",
      "source": [
        "addResult2=add2(1,2)\n",
        "print(addResult2)"
      ],
      "metadata": {
        "colab": {
          "base_uri": "https://localhost:8080/"
        },
        "id": "ynnhEJBxMR1c",
        "outputId": "c7053a24-9a1a-4e11-ba0d-eae7a2055c7e"
      },
      "execution_count": 28,
      "outputs": [
        {
          "output_type": "stream",
          "name": "stdout",
          "text": [
            "3\n"
          ]
        }
      ]
    },
    {
      "cell_type": "code",
      "source": [
        "def add3(num,num2):\n",
        "  result=num+num2\n",
        "  print(\"hi\")\n",
        "  return result\n",
        "\n",
        "add3(1,2)  "
      ],
      "metadata": {
        "colab": {
          "base_uri": "https://localhost:8080/"
        },
        "id": "JFsyraC9NKxy",
        "outputId": "d25218a9-08c1-4072-d633-c7d314b2ddc3"
      },
      "execution_count": 33,
      "outputs": [
        {
          "output_type": "stream",
          "name": "stdout",
          "text": [
            "hi\n"
          ]
        },
        {
          "output_type": "execute_result",
          "data": {
            "text/plain": [
              "3"
            ]
          },
          "metadata": {},
          "execution_count": 33
        }
      ]
    },
    {
      "cell_type": "code",
      "source": [
        "def x빼기y(x,y):\n",
        "  뺄셈결과= x-y\n",
        "  print(뺄셈결과)\n",
        "x빼기y(y=100,x=-22)  "
      ],
      "metadata": {
        "colab": {
          "base_uri": "https://localhost:8080/"
        },
        "id": "pe0fIysxNy_e",
        "outputId": "2da7e451-4a73-44b2-adf1-f86a3f0433e2"
      },
      "execution_count": 36,
      "outputs": [
        {
          "output_type": "stream",
          "name": "stdout",
          "text": [
            "-122\n"
          ]
        }
      ]
    },
    {
      "cell_type": "code",
      "source": [
        "def 덧뺄셈(x,y):\n",
        "  덧뺄셈= x+y,x-y\n",
        "  print(덧뺄셈)\n",
        "덧뺄셈(1,2)  "
      ],
      "metadata": {
        "colab": {
          "base_uri": "https://localhost:8080/"
        },
        "id": "NWb-FyB7OSTA",
        "outputId": "f049dd05-ab5c-40c0-a131-961217c54418"
      },
      "execution_count": 40,
      "outputs": [
        {
          "output_type": "stream",
          "name": "stdout",
          "text": [
            "(3, -1)\n"
          ]
        }
      ]
    },
    {
      "cell_type": "code",
      "source": [
        "튜플값1, 튜플값2 = (1,5)\n",
        "print(튜플값2)"
      ],
      "metadata": {
        "colab": {
          "base_uri": "https://localhost:8080/"
        },
        "id": "__JtSaX2SVvG",
        "outputId": "9d60356a-1be5-48f0-eee6-267bc11241a2"
      },
      "execution_count": 41,
      "outputs": [
        {
          "output_type": "stream",
          "name": "stdout",
          "text": [
            "5\n"
          ]
        }
      ]
    },
    {
      "cell_type": "code",
      "source": [
        "def 덧셈뺄셈(x,y):\n",
        "  덧셈결과 = x+y \n",
        "  뺄셈결과 = x-y\n",
        "  return 덧셈결과, 뺄셈결과\n",
        "함수실행결과 =덧셈뺄셈(1,2)\n",
        "print(함수실행결과)\n",
        "print(type(함수실행결과))\n",
        "print(함수실행결과[0],함수실행결과[1])\n",
        "덧셈결과=함수실행결과[0]\n",
        "뺄셈결과=함수실행결과[1]\n",
        "print(덧셈결과)\n",
        "print(뺄셈결과)"
      ],
      "metadata": {
        "colab": {
          "base_uri": "https://localhost:8080/"
        },
        "id": "oQFnI-UPTk_m",
        "outputId": "cf044cb5-c2ac-404d-b4a6-9471bf330588"
      },
      "execution_count": 45,
      "outputs": [
        {
          "output_type": "stream",
          "name": "stdout",
          "text": [
            "(3, -1)\n",
            "<class 'tuple'>\n",
            "3 -1\n",
            "3\n",
            "-1\n"
          ]
        }
      ]
    },
    {
      "cell_type": "code",
      "source": [
        "덧셈결과, 뺄셈결과 = 덧셈뺄셈(20,10)\n",
        "print(덧셈결과)\n",
        "print(뺄셈결과)\n"
      ],
      "metadata": {
        "colab": {
          "base_uri": "https://localhost:8080/"
        },
        "id": "TopGL059U_bZ",
        "outputId": "7cc3ed36-fdcb-4d7d-d4fb-17391b644a1e"
      },
      "execution_count": 47,
      "outputs": [
        {
          "output_type": "stream",
          "name": "stdout",
          "text": [
            "30\n",
            "10\n"
          ]
        }
      ]
    },
    {
      "cell_type": "code",
      "source": [
        "num=1\n",
        "print(type(num))"
      ],
      "metadata": {
        "colab": {
          "base_uri": "https://localhost:8080/"
        },
        "id": "sMXmlBhUio6z",
        "outputId": "0d041ae1-6b16-4618-f6c9-334b39988ab7"
      },
      "execution_count": 78,
      "outputs": [
        {
          "output_type": "stream",
          "name": "stdout",
          "text": [
            "<class 'int'>\n"
          ]
        }
      ]
    },
    {
      "cell_type": "code",
      "source": [
        "string=\"hello\"\n",
        "print(type(string))"
      ],
      "metadata": {
        "colab": {
          "base_uri": "https://localhost:8080/"
        },
        "id": "OXcbdElJi5s3",
        "outputId": "6e7d9e4a-b995-40a1-b27b-ff406acd609a"
      },
      "execution_count": 80,
      "outputs": [
        {
          "output_type": "stream",
          "name": "stdout",
          "text": [
            "<class 'str'>\n"
          ]
        }
      ]
    },
    {
      "cell_type": "code",
      "source": [
        "class Animal:\n",
        "  pass"
      ],
      "metadata": {
        "id": "pcnhi9F7jBPu"
      },
      "execution_count": 81,
      "outputs": []
    },
    {
      "cell_type": "code",
      "source": [
        "animal = Animal()\n",
        "print(type(animal))"
      ],
      "metadata": {
        "colab": {
          "base_uri": "https://localhost:8080/"
        },
        "id": "x7bLNKQGjeXl",
        "outputId": "1f618e84-e1fb-4b18-c837-5cd3ec7ab103"
      },
      "execution_count": 82,
      "outputs": [
        {
          "output_type": "stream",
          "name": "stdout",
          "text": [
            "<class '__main__.Animal'>\n"
          ]
        }
      ]
    },
    {
      "cell_type": "code",
      "source": [
        "class Animal:\n",
        "  kor = \"동물\"\n",
        "  def 숨쉬기():\n",
        "    print(\"숨을 쉽니다\")\n",
        "  def 움직이기():\n",
        "    print(\"몸을 움직입니다\")"
      ],
      "metadata": {
        "id": "rSCTCUrkjvRm"
      },
      "execution_count": 85,
      "outputs": []
    },
    {
      "cell_type": "code",
      "source": [
        "개 = Animal()\n",
        "print(type(개))\n",
        "Animal.숨쉬기()\n",
        "Animal.움직이기()\n",
        "print(\"========================\")\n",
        "개.숨쉬기()\n",
        "개.움직이기()\n"
      ],
      "metadata": {
        "colab": {
          "base_uri": "https://localhost:8080/",
          "height": 245
        },
        "id": "zxMxhrYXkBGj",
        "outputId": "32540376-31b7-4434-d1fc-d8d425a5e13d"
      },
      "execution_count": 89,
      "outputs": [
        {
          "output_type": "error",
          "ename": "NameError",
          "evalue": "ignored",
          "traceback": [
            "\u001b[0;31m---------------------------------------------------------------------------\u001b[0m",
            "\u001b[0;31mNameError\u001b[0m                                 Traceback (most recent call last)",
            "\u001b[0;32m<ipython-input-89-bbe988a7d1d0>\u001b[0m in \u001b[0;36m<module>\u001b[0;34m()\u001b[0m\n\u001b[0;32m----> 1\u001b[0;31m \u001b[0m개\u001b[0m \u001b[0;34m=\u001b[0m \u001b[0mAnimal\u001b[0m\u001b[0;34m(\u001b[0m\u001b[0m동물\u001b[0m\u001b[0;34m)\u001b[0m\u001b[0;34m\u001b[0m\u001b[0;34m\u001b[0m\u001b[0m\n\u001b[0m\u001b[1;32m      2\u001b[0m \u001b[0mprint\u001b[0m\u001b[0;34m(\u001b[0m\u001b[0mtype\u001b[0m\u001b[0;34m(\u001b[0m\u001b[0m개\u001b[0m\u001b[0;34m)\u001b[0m\u001b[0;34m)\u001b[0m\u001b[0;34m\u001b[0m\u001b[0;34m\u001b[0m\u001b[0m\n\u001b[1;32m      3\u001b[0m \u001b[0mAnimal\u001b[0m\u001b[0;34m.\u001b[0m\u001b[0m숨쉬기\u001b[0m\u001b[0;34m(\u001b[0m\u001b[0;34m)\u001b[0m\u001b[0;34m\u001b[0m\u001b[0;34m\u001b[0m\u001b[0m\n\u001b[1;32m      4\u001b[0m \u001b[0mAnimal\u001b[0m\u001b[0;34m.\u001b[0m\u001b[0m움직이기\u001b[0m\u001b[0;34m(\u001b[0m\u001b[0;34m)\u001b[0m\u001b[0;34m\u001b[0m\u001b[0;34m\u001b[0m\u001b[0m\n\u001b[1;32m      5\u001b[0m \u001b[0mprint\u001b[0m\u001b[0;34m(\u001b[0m\u001b[0;34m\"========================\"\u001b[0m\u001b[0;34m)\u001b[0m\u001b[0;34m\u001b[0m\u001b[0;34m\u001b[0m\u001b[0m\n",
            "\u001b[0;31mNameError\u001b[0m: name '동물' is not defined"
          ]
        }
      ]
    },
    {
      "cell_type": "code",
      "source": [
        "class Animal:\n",
        "  kor=\"동물\"\n",
        "  def 숨쉬기(self):\n",
        "    print(\"숨을 쉽니다\")\n",
        "  def 움직이기(self):\n",
        "    print(\"몸을 움직입니다\")\n",
        "  def 말하기(self,문장):\n",
        "    print(문장)\n",
        "animal = Animal()\n",
        "animal.숨쉬기()\n",
        "animal.움직이기()\n",
        "animal.말하기(\"안녕하세요\")\n",
        "print(animal.kor)       "
      ],
      "metadata": {
        "colab": {
          "base_uri": "https://localhost:8080/"
        },
        "id": "SO6W0kqMkns_",
        "outputId": "c0d02bb7-9f0a-4b12-c416-e759fb707bc1"
      },
      "execution_count": 91,
      "outputs": [
        {
          "output_type": "stream",
          "name": "stdout",
          "text": [
            "숨을 쉽니다\n",
            "몸을 움직입니다\n",
            "안녕하세요\n",
            "동물\n"
          ]
        }
      ]
    },
    {
      "cell_type": "code",
      "source": [
        "class Animal:\n",
        "  kor=\"동물\"\n",
        "  def __init__(self):\n",
        "    print(\"태어났습니다\")\n",
        "  def 숨쉬기(self):\n",
        "    print(\"숨을 쉽니다\")\n",
        "  def 움직이기(self):\n",
        "    print(\"몸을 움직입니다\")\n",
        "  def 말하기(self,문장):\n",
        "    print(문장)\n",
        "  def __del__(self):\n",
        "    print(\"죽었습니다\")\n",
        "animal = Animal()\n",
        "print(\"===========================================\")\n",
        "del animal"
      ],
      "metadata": {
        "colab": {
          "base_uri": "https://localhost:8080/"
        },
        "id": "-z5NA_TRl33J",
        "outputId": "e1b496e9-e244-490b-87ae-f098e70d6a49"
      },
      "execution_count": 103,
      "outputs": [
        {
          "output_type": "stream",
          "name": "stdout",
          "text": [
            "태어났습니다\n",
            "===========================================\n",
            "죽었습니다\n"
          ]
        }
      ]
    },
    {
      "cell_type": "code",
      "source": [
        "class Animal:\n",
        "  kor=\"동물\"\n",
        "  def __init__(self,키,생일):\n",
        "    self.키=키\n",
        "    self.생일=생일\n",
        "    print(\"태어났습니다\")\n",
        "  def 키얻기(self):\n",
        "    print(f\"키는{self.키}cm 입니다\")\n",
        "  def 생일얻기(self):\n",
        "    print(f\"생일은 {self.생일} 입니다\")\n",
        "  def 숨쉬기(self):\n",
        "    print(\"숨을 쉽니다\")\n",
        "  def 움직이기(self):\n",
        "    print(\"몸을 움직입니다\")\n",
        "  def 말하기(self,문장):\n",
        "    print(문장)\n",
        "  def __del__(self):\n",
        "    print(\"죽었습니다\")"
      ],
      "metadata": {
        "id": "aSLlxDNOoQC3"
      },
      "execution_count": 110,
      "outputs": []
    },
    {
      "cell_type": "code",
      "source": [
        "animal = Animal(키=30,생일=20220219)\n",
        "print(animal.키)\n",
        "animal.키얻기()"
      ],
      "metadata": {
        "colab": {
          "base_uri": "https://localhost:8080/"
        },
        "id": "VqfPjWlipL8E",
        "outputId": "a17f924a-914a-43c8-e9a4-74dbe1b09893"
      },
      "execution_count": 115,
      "outputs": [
        {
          "output_type": "stream",
          "name": "stdout",
          "text": [
            "태어났습니다\n",
            "30\n",
            "키는30cm 입니다\n",
            "죽었습니다\n"
          ]
        }
      ]
    },
    {
      "cell_type": "code",
      "source": [
        "dir(animal)"
      ],
      "metadata": {
        "colab": {
          "base_uri": "https://localhost:8080/"
        },
        "id": "g86YXyETqVPp",
        "outputId": "498d566f-fc3c-4cbb-b5e1-64b1679556a3"
      },
      "execution_count": 116,
      "outputs": [
        {
          "output_type": "execute_result",
          "data": {
            "text/plain": [
              "['__class__',\n",
              " '__del__',\n",
              " '__delattr__',\n",
              " '__dict__',\n",
              " '__dir__',\n",
              " '__doc__',\n",
              " '__eq__',\n",
              " '__format__',\n",
              " '__ge__',\n",
              " '__getattribute__',\n",
              " '__gt__',\n",
              " '__hash__',\n",
              " '__init__',\n",
              " '__init_subclass__',\n",
              " '__le__',\n",
              " '__lt__',\n",
              " '__module__',\n",
              " '__ne__',\n",
              " '__new__',\n",
              " '__reduce__',\n",
              " '__reduce_ex__',\n",
              " '__repr__',\n",
              " '__setattr__',\n",
              " '__sizeof__',\n",
              " '__str__',\n",
              " '__subclasshook__',\n",
              " '__weakref__',\n",
              " 'kor',\n",
              " '말하기',\n",
              " '생일',\n",
              " '생일얻기',\n",
              " '숨쉬기',\n",
              " '움직이기',\n",
              " '키',\n",
              " '키얻기']"
            ]
          },
          "metadata": {},
          "execution_count": 116
        }
      ]
    },
    {
      "cell_type": "code",
      "source": [
        "print(type(animal.말하기))"
      ],
      "metadata": {
        "colab": {
          "base_uri": "https://localhost:8080/"
        },
        "id": "BbsloGk3qY_H",
        "outputId": "236996f9-d374-4aed-e2be-24664b849e8f"
      },
      "execution_count": 117,
      "outputs": [
        {
          "output_type": "stream",
          "name": "stdout",
          "text": [
            "<class 'method'>\n"
          ]
        }
      ]
    },
    {
      "cell_type": "code",
      "source": [
        "class 개(Animal):\n",
        "  def 짖기(self):\n",
        "    print(\"멍\")"
      ],
      "metadata": {
        "id": "V-HuUExTqo34"
      },
      "execution_count": 140,
      "outputs": []
    },
    {
      "cell_type": "code",
      "source": [
        "요크셔 = 개(키=30,생일=\"오늘\")\n",
        "요크셔.짖기()"
      ],
      "metadata": {
        "colab": {
          "base_uri": "https://localhost:8080/"
        },
        "id": "jiEtH9kGqzyO",
        "outputId": "14729899-5940-4d46-9ef4-8ef41896e052"
      },
      "execution_count": 141,
      "outputs": [
        {
          "output_type": "stream",
          "name": "stdout",
          "text": [
            "태어났습니다\n",
            "멍\n"
          ]
        }
      ]
    },
    {
      "cell_type": "code",
      "source": [
        "요크셔.키얻기()"
      ],
      "metadata": {
        "colab": {
          "base_uri": "https://localhost:8080/"
        },
        "id": "31EaTZvXrGP2",
        "outputId": "265fe4c2-3424-4b74-ab72-f463504df471"
      },
      "execution_count": 142,
      "outputs": [
        {
          "output_type": "stream",
          "name": "stdout",
          "text": [
            "키는30cm 입니다\n"
          ]
        }
      ]
    },
    {
      "cell_type": "code",
      "source": [
        "del 요크셔"
      ],
      "metadata": {
        "colab": {
          "base_uri": "https://localhost:8080/"
        },
        "id": "6LCC7-oMrY2T",
        "outputId": "2b936e4b-0020-4dc0-8af4-72aef6730540"
      },
      "execution_count": 143,
      "outputs": [
        {
          "output_type": "stream",
          "name": "stdout",
          "text": [
            "죽었습니다\n"
          ]
        }
      ]
    },
    {
      "cell_type": "code",
      "source": [
        ""
      ],
      "metadata": {
        "id": "QU384vwZrp1Y"
      },
      "execution_count": null,
      "outputs": []
    }
  ]
}